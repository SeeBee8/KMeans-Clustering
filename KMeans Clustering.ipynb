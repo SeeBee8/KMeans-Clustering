{
 "cells": [
  {
   "cell_type": "markdown",
   "id": "781e0705-729b-4cc8-b3ff-f6ac087784c4",
   "metadata": {},
   "source": [
    "# KMeans Clustering\n",
    "Core\n",
    "\n",
    "\n",
    "*Christina Brockway*"
   ]
  },
  {
   "cell_type": "markdown",
   "id": "264096c4-e4f7-4302-8e58-9defada7253b",
   "metadata": {},
   "source": [
    "## Business Understanding\n",
    "\n",
    "**Task:**\n",
    "- To perform customer segmentations using KMeans.\n",
    "- Help the company effectively allocate marketing resources\n",
    "- Use customer age, education, years of employment, income, debt, whether they defaulted, and debt-to-income ratio to group into segments\n",
    "\n",
    "**Stakeholder:**\n",
    "Credit card company that is trying to allocate marketing material to the most relevent people at the lowest cost.\n",
    "\n"
   ]
  },
  {
   "cell_type": "markdown",
   "id": "895f07bf-76d9-47c4-be8b-59354c62a958",
   "metadata": {},
   "source": [
    "## Data Understanding:\n",
    "\n",
    "Using the following dataset: \n",
    "https://assets.codingdojo.com/boomyeah2015/codingdojo/curriculum/content/chapter/cust_seg.csv\n",
    "\n",
    "From: \n",
    "https://github.com/Nikhil-Adithyan/Customer-Segmentation-with-K-Means"
   ]
  },
  {
   "cell_type": "markdown",
   "id": "ff53f568-8800-4e6c-a64e-57db25930254",
   "metadata": {},
   "source": [
    "### Load Data and Imports:"
   ]
  },
  {
   "cell_type": "code",
   "execution_count": 1,
   "id": "f2465d16-9283-4522-9d99-6a382a29bfe3",
   "metadata": {},
   "outputs": [],
   "source": [
    "# Imports\n",
    "import numpy as np\n",
    "import pandas as pd\n",
    "import matplotlib.pyplot as plt\n",
    "\n",
    "from sklearn.decomposition import PCA\n",
    "from sklearn.preprocessing import StandardScaler\n",
    "from sklearn.cluster import KMeans\n",
    "from sklearn.metrics import silhouette_score\n",
    "\n",
    "import plotly.express as px"
   ]
  },
  {
   "cell_type": "code",
   "execution_count": 2,
   "id": "386fde7c-52dc-40bb-a5cb-d5cdf5881812",
   "metadata": {},
   "outputs": [
    {
     "data": {
      "text/html": [
       "<div>\n",
       "<style scoped>\n",
       "    .dataframe tbody tr th:only-of-type {\n",
       "        vertical-align: middle;\n",
       "    }\n",
       "\n",
       "    .dataframe tbody tr th {\n",
       "        vertical-align: top;\n",
       "    }\n",
       "\n",
       "    .dataframe thead th {\n",
       "        text-align: right;\n",
       "    }\n",
       "</style>\n",
       "<table border=\"1\" class=\"dataframe\">\n",
       "  <thead>\n",
       "    <tr style=\"text-align: right;\">\n",
       "      <th></th>\n",
       "      <th>Unnamed: 0</th>\n",
       "      <th>Customer Id</th>\n",
       "      <th>Age</th>\n",
       "      <th>Edu</th>\n",
       "      <th>Years Employed</th>\n",
       "      <th>Income</th>\n",
       "      <th>Card Debt</th>\n",
       "      <th>Other Debt</th>\n",
       "      <th>Defaulted</th>\n",
       "      <th>DebtIncomeRatio</th>\n",
       "    </tr>\n",
       "  </thead>\n",
       "  <tbody>\n",
       "    <tr>\n",
       "      <th>0</th>\n",
       "      <td>0</td>\n",
       "      <td>1</td>\n",
       "      <td>41</td>\n",
       "      <td>2</td>\n",
       "      <td>6</td>\n",
       "      <td>19</td>\n",
       "      <td>0.124</td>\n",
       "      <td>1.073</td>\n",
       "      <td>0.0</td>\n",
       "      <td>6.3</td>\n",
       "    </tr>\n",
       "    <tr>\n",
       "      <th>1</th>\n",
       "      <td>1</td>\n",
       "      <td>2</td>\n",
       "      <td>47</td>\n",
       "      <td>1</td>\n",
       "      <td>26</td>\n",
       "      <td>100</td>\n",
       "      <td>4.582</td>\n",
       "      <td>8.218</td>\n",
       "      <td>0.0</td>\n",
       "      <td>12.8</td>\n",
       "    </tr>\n",
       "    <tr>\n",
       "      <th>2</th>\n",
       "      <td>2</td>\n",
       "      <td>3</td>\n",
       "      <td>33</td>\n",
       "      <td>2</td>\n",
       "      <td>10</td>\n",
       "      <td>57</td>\n",
       "      <td>6.111</td>\n",
       "      <td>5.802</td>\n",
       "      <td>1.0</td>\n",
       "      <td>20.9</td>\n",
       "    </tr>\n",
       "    <tr>\n",
       "      <th>3</th>\n",
       "      <td>3</td>\n",
       "      <td>4</td>\n",
       "      <td>29</td>\n",
       "      <td>2</td>\n",
       "      <td>4</td>\n",
       "      <td>19</td>\n",
       "      <td>0.681</td>\n",
       "      <td>0.516</td>\n",
       "      <td>0.0</td>\n",
       "      <td>6.3</td>\n",
       "    </tr>\n",
       "    <tr>\n",
       "      <th>4</th>\n",
       "      <td>4</td>\n",
       "      <td>5</td>\n",
       "      <td>47</td>\n",
       "      <td>1</td>\n",
       "      <td>31</td>\n",
       "      <td>253</td>\n",
       "      <td>9.308</td>\n",
       "      <td>8.908</td>\n",
       "      <td>0.0</td>\n",
       "      <td>7.2</td>\n",
       "    </tr>\n",
       "  </tbody>\n",
       "</table>\n",
       "</div>"
      ],
      "text/plain": [
       "   Unnamed: 0  Customer Id  Age  Edu  Years Employed  Income  Card Debt  \\\n",
       "0           0            1   41    2               6      19      0.124   \n",
       "1           1            2   47    1              26     100      4.582   \n",
       "2           2            3   33    2              10      57      6.111   \n",
       "3           3            4   29    2               4      19      0.681   \n",
       "4           4            5   47    1              31     253      9.308   \n",
       "\n",
       "   Other Debt  Defaulted  DebtIncomeRatio  \n",
       "0       1.073        0.0              6.3  \n",
       "1       8.218        0.0             12.8  \n",
       "2       5.802        1.0             20.9  \n",
       "3       0.516        0.0              6.3  \n",
       "4       8.908        0.0              7.2  "
      ]
     },
     "execution_count": 2,
     "metadata": {},
     "output_type": "execute_result"
    }
   ],
   "source": [
    "# load dataset\n",
    "credit =  'data/cust_seg.csv'\n",
    "df = pd.read_csv(credit)\n",
    "df.head()"
   ]
  },
  {
   "cell_type": "markdown",
   "id": "be67d0ed-034e-4607-a0d0-6eb14e2720b4",
   "metadata": {},
   "source": [
    "### Clean Data"
   ]
  },
  {
   "cell_type": "code",
   "execution_count": 3,
   "id": "8d64796e-0c65-4a3e-8026-c3048292605a",
   "metadata": {},
   "outputs": [],
   "source": [
    "df= df.drop(columns=['Unnamed: 0', 'Customer Id'])\n"
   ]
  },
  {
   "cell_type": "code",
   "execution_count": 4,
   "id": "5233280f-d431-44b5-99e6-04e05f0292d9",
   "metadata": {},
   "outputs": [
    {
     "data": {
      "text/plain": [
       "Age                  0\n",
       "Edu                  0\n",
       "Years Employed       0\n",
       "Income               0\n",
       "Card Debt            0\n",
       "Other Debt           0\n",
       "Defaulted          150\n",
       "DebtIncomeRatio      0\n",
       "dtype: int64"
      ]
     },
     "execution_count": 4,
     "metadata": {},
     "output_type": "execute_result"
    }
   ],
   "source": [
    "df.isna().sum()"
   ]
  },
  {
   "cell_type": "code",
   "execution_count": 5,
   "id": "3c7f7dcf-dbeb-42a0-a682-08080595dec9",
   "metadata": {},
   "outputs": [],
   "source": [
    "df=df.dropna()"
   ]
  },
  {
   "cell_type": "code",
   "execution_count": 6,
   "id": "31ec917f-9b92-4617-a5db-d28fee2ce117",
   "metadata": {},
   "outputs": [
    {
     "data": {
      "text/plain": [
       "Age                0\n",
       "Edu                0\n",
       "Years Employed     0\n",
       "Income             0\n",
       "Card Debt          0\n",
       "Other Debt         0\n",
       "Defaulted          0\n",
       "DebtIncomeRatio    0\n",
       "dtype: int64"
      ]
     },
     "execution_count": 6,
     "metadata": {},
     "output_type": "execute_result"
    }
   ],
   "source": [
    "df.isna().sum()"
   ]
  },
  {
   "cell_type": "code",
   "execution_count": 7,
   "id": "99923b8d-c1bd-4894-8d24-10de898c1bbb",
   "metadata": {},
   "outputs": [],
   "source": [
    "# Combine 'Column1' and 'Column2' into a new column 'Combined'\n",
    "df['Combined Debt'] = df['Card Debt'].astype(float) + df['Other Debt']"
   ]
  },
  {
   "cell_type": "code",
   "execution_count": 8,
   "id": "08a48dc3-3de9-41a6-b83c-5398939e42d4",
   "metadata": {},
   "outputs": [],
   "source": [
    "df= df.drop(columns=['Card Debt', 'Other Debt'])"
   ]
  },
  {
   "cell_type": "code",
   "execution_count": null,
   "id": "843f04c8-fc46-4b65-8c7e-87fcc9281009",
   "metadata": {},
   "outputs": [],
   "source": []
  },
  {
   "cell_type": "code",
   "execution_count": 9,
   "id": "7dc6b5ff-8999-45f5-a7cc-d5b01cf26404",
   "metadata": {},
   "outputs": [
    {
     "data": {
      "text/html": [
       "<div>\n",
       "<style scoped>\n",
       "    .dataframe tbody tr th:only-of-type {\n",
       "        vertical-align: middle;\n",
       "    }\n",
       "\n",
       "    .dataframe tbody tr th {\n",
       "        vertical-align: top;\n",
       "    }\n",
       "\n",
       "    .dataframe thead th {\n",
       "        text-align: right;\n",
       "    }\n",
       "</style>\n",
       "<table border=\"1\" class=\"dataframe\">\n",
       "  <thead>\n",
       "    <tr style=\"text-align: right;\">\n",
       "      <th></th>\n",
       "      <th>Age</th>\n",
       "      <th>Edu</th>\n",
       "      <th>Years Employed</th>\n",
       "      <th>Income</th>\n",
       "      <th>Defaulted</th>\n",
       "      <th>DebtIncomeRatio</th>\n",
       "      <th>Combined Debt</th>\n",
       "    </tr>\n",
       "  </thead>\n",
       "  <tbody>\n",
       "    <tr>\n",
       "      <th>0</th>\n",
       "      <td>41</td>\n",
       "      <td>2</td>\n",
       "      <td>6</td>\n",
       "      <td>19</td>\n",
       "      <td>0.0</td>\n",
       "      <td>6.3</td>\n",
       "      <td>1.197</td>\n",
       "    </tr>\n",
       "    <tr>\n",
       "      <th>1</th>\n",
       "      <td>47</td>\n",
       "      <td>1</td>\n",
       "      <td>26</td>\n",
       "      <td>100</td>\n",
       "      <td>0.0</td>\n",
       "      <td>12.8</td>\n",
       "      <td>12.800</td>\n",
       "    </tr>\n",
       "  </tbody>\n",
       "</table>\n",
       "</div>"
      ],
      "text/plain": [
       "   Age  Edu  Years Employed  Income  Defaulted  DebtIncomeRatio  Combined Debt\n",
       "0   41    2               6      19        0.0              6.3          1.197\n",
       "1   47    1              26     100        0.0             12.8         12.800"
      ]
     },
     "execution_count": 9,
     "metadata": {},
     "output_type": "execute_result"
    }
   ],
   "source": [
    "df.head(2)"
   ]
  },
  {
   "cell_type": "code",
   "execution_count": 10,
   "id": "18214740-a02c-4f7b-bf91-679bd7fb1012",
   "metadata": {},
   "outputs": [],
   "source": [
    "# Scale the data\n",
    "# Instantiate Standard Scaler\n",
    "scaler = StandardScaler()\n",
    "# Fit & transform data.\n",
    "scaled_df = scaler.fit_transform(df)"
   ]
  },
  {
   "cell_type": "markdown",
   "id": "92ceebd4-7469-4588-8907-71cde9414433",
   "metadata": {},
   "source": [
    "### Use KMeans to create various customer segments"
   ]
  },
  {
   "cell_type": "code",
   "execution_count": null,
   "id": "2696fd30-638e-430e-943b-10b132401492",
   "metadata": {},
   "outputs": [],
   "source": [
    "#instantiate KMeans\n",
    "ks = range(2, 11)\n",
    "\n",
    "#create empty list for inertias and sils\n",
    "inertias=[]\n",
    "sils = []\n",
    "\n",
    "#Loop through k values for range\n",
    "for k in ks:\n",
    "    kmeans= KMeans(n_clusters=k, n_init='auto', random_state=42)\n",
    "    kmeans.fit(scaled_df)\n",
    "    inertias.append(kmeans.inertia_)\n",
    "    sils.append(silhouette_score(scaled_df, kmeans.labels_))\n",
    "\n",
    "#Visualize the scores\n",
    "plt.plot(ks, inertias, marker='.')\n",
    "plt.xlabel('clusters')\n",
    "plt.ylabel('inertia');\n",
    "\n",
    "plt.show()\n",
    "\n",
    "plt.plot(ks, sils, marker='.')\n",
    "plt.xlabel('Number of Clusters')\n",
    "plt.ylabel('Silhouette Score');"
   ]
  },
  {
   "cell_type": "markdown",
   "id": "5ec2a800-bf81-4fed-a297-2c0102c160d2",
   "metadata": {},
   "source": [
    "Choose a K based on the results:  Will use K=3 based on the elbow plot"
   ]
  },
  {
   "cell_type": "code",
   "execution_count": null,
   "id": "7732b35e-651b-4b6f-b11d-4660b159ff4d",
   "metadata": {},
   "outputs": [],
   "source": [
    "kmeans_model = KMeans(n_clusters=3, n_init='auto', random_state=42)\n",
    "kmeans_model.fit(scaled_df)"
   ]
  },
  {
   "cell_type": "markdown",
   "id": "66066c3a-7114-4f9e-bb25-ec23a6659b71",
   "metadata": {},
   "source": [
    "### Analyze the clusters \n",
    "\n",
    "Create analytical visualizations that explore statistics for each feature for each cluster."
   ]
  },
  {
   "cell_type": "code",
   "execution_count": null,
   "id": "c1fe3f4c-55d9-42a2-930f-6b344f8902d3",
   "metadata": {},
   "outputs": [],
   "source": [
    "# Add the clusters as a column in the dataframe\n",
    "df['cluster'] = kmeans_model.labels_\n",
    "df.head()\n",
    "#group the dataframe by cluster and aggregate by mean values\n",
    "cluster_groups = df.groupby('cluster', as_index=False).mean()\r\n",
    "cluster_groups"
   ]
  },
  {
   "cell_type": "code",
   "execution_count": null,
   "id": "9ff6362c-6f0b-4c74-b960-9f371c60b2b1",
   "metadata": {},
   "outputs": [],
   "source": [
    "# Visualize means \n",
    "fig, axes = plt.subplots(2,4, figsize = (20, 10))\n",
    "# fig is an array of dimensions 2,4.  axes.ravel() will flatten it to 12,1\n",
    "axes = axes.ravel()\n",
    "# Loop over columns and plot each in a separate figure, skip 'cluster' column\n",
    "for i, col in enumerate(cluster_groups.columns[1:]):\n",
    "  axes[i].bar(cluster_groups['cluster'], cluster_groups[col])\n",
    "  axes[i].set_title(f'Mean {col}')"
   ]
  },
  {
   "cell_type": "markdown",
   "id": "cd9ff685-2812-4a58-8e6b-ca2d6327de2f",
   "metadata": {},
   "source": [
    "### Descriptions of each cluster based on the visualizations "
   ]
  },
  {
   "cell_type": "markdown",
   "id": "cf5eec7d-d6f5-4d31-b361-b8a885069301",
   "metadata": {},
   "source": [
    "##### Cluster 0:\n",
    "\n",
    "*  The customers in Cluster 0 are generally in their mid-thirties, and have a decent amount of education.  However, compared to other clusters, they have the lowest amount of education.  These cusotmers also have been employed the smallest number of years, averaging 7.5 years.  Given this their income is low but not as low as Cluser 2. They also have the lowest amount of debt, and the lowest debt-to-income ratio.   This customer group has not defaulted on their credit. This cluster appears to be better at managing their money and keep their debt low, possibly because their income is also low.   They appear to be cautious borrowers.\n"
   ]
  },
  {
   "cell_type": "markdown",
   "id": "b2122ce3-987a-408d-87f2-affe98bb20bd",
   "metadata": {},
   "source": [
    "##### Cluster 1\n",
    "\n",
    "*  Cluster 1 is the oldest group of customers. They also have the highest education, have been employed the longest amount of time, and have the highest income.  Unfortunately they also have the highest amount of debt and a high debt-to-income ratio.  In this group a small number of these customers have defaulted.  These customers are well educated and make a large amount of money. With a higher income comes more spending.  Perhaps they have a tendancy to  spend more than they make.  The majority of this cluster does pay their debts.\n"
   ]
  },
  {
   "cell_type": "markdown",
   "id": "b7a015d1-484f-4de4-9a06-24b04c5dc073",
   "metadata": {},
   "source": [
    "##### Cluster 2:\n",
    "\n",
    "*  Cluster 2 is the youngest group, and have a slightly lower amount of education compared to Cluster 1.  These customers have the lowest amount of income, but only slightly lower than Cluster 0.  Add the high amount of debt to the low income, and this cluster has the highest debt-to-income ratio.  The majority of these customers have defaulted.  Being younger this customer group seems to be more impulsive with their spending even though they don't make a lot of money. \n"
   ]
  },
  {
   "cell_type": "markdown",
   "id": "9f21b28d-6a76-4081-b66c-9b71c705d2b6",
   "metadata": {},
   "source": [
    "### Stakeholder Recommendations"
   ]
  },
  {
   "cell_type": "markdown",
   "id": "6ca31dea-c943-4cda-86d7-5a26076b5f7e",
   "metadata": {},
   "source": [
    "1.  Ideally the company should market their materials toward Clusters 0 and 1. These customers are more likely to pay back the credit they spend.\n",
    "2.  Cluster 2 is more likely to not pay back the credit they spend, a high interest card with low credit amounts is the best type of card to market to these customers.  This way even if the card is defaulted on, with the high intrest, any amount they pay back should cover the credit they have spent.\n",
    "3.  Marketing a card with a large limit to cluster 0 will guarantee the company profits from the customer base.  These customers have not defaulted on their cards and should be rewarded for their spending habits.  Having a low interest rate and a high limit will create a loyalty to this card versus other options.\n",
    "4.  Cluster 1 should be marketed a card with a low interest rate with a lower spending limit.  These customers are likely to pay back the money they spend, but are not good at regulating their spending limits.  A low limit will prevent them from spending more than they could pay back."
   ]
  },
  {
   "cell_type": "code",
   "execution_count": null,
   "id": "261b4c72-2992-4a5c-8663-428ac07a5882",
   "metadata": {},
   "outputs": [],
   "source": []
  },
  {
   "cell_type": "code",
   "execution_count": null,
   "id": "892da2e4-6380-4227-a127-d42a0f80c0f3",
   "metadata": {},
   "outputs": [],
   "source": []
  },
  {
   "cell_type": "code",
   "execution_count": null,
   "id": "cbcaa53d-8b2b-4848-bb61-717daa2e0fed",
   "metadata": {},
   "outputs": [],
   "source": []
  },
  {
   "cell_type": "code",
   "execution_count": null,
   "id": "7638601c-2a4c-41e8-aa22-9d51218020d1",
   "metadata": {},
   "outputs": [],
   "source": []
  }
 ],
 "metadata": {
  "kernelspec": {
   "display_name": "Python (dojo-env)",
   "language": "python",
   "name": "dojo-env"
  },
  "language_info": {
   "codemirror_mode": {
    "name": "ipython",
    "version": 3
   },
   "file_extension": ".py",
   "mimetype": "text/x-python",
   "name": "python",
   "nbconvert_exporter": "python",
   "pygments_lexer": "ipython3",
   "version": "3.10.10"
  },
  "widgets": {
   "application/vnd.jupyter.widget-state+json": {
    "state": {},
    "version_major": 2,
    "version_minor": 0
   }
  }
 },
 "nbformat": 4,
 "nbformat_minor": 5
}
