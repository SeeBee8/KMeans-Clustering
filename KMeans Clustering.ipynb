{
 "cells": [
  {
   "cell_type": "markdown",
   "id": "781e0705-729b-4cc8-b3ff-f6ac087784c4",
   "metadata": {},
   "source": [
    "# KMeans Clustering\n",
    "Core\n",
    "\n",
    "\n",
    "*Christina Brockway*"
   ]
  },
  {
   "cell_type": "markdown",
   "id": "264096c4-e4f7-4302-8e58-9defada7253b",
   "metadata": {},
   "source": [
    "## Business Understanding\n",
    "\n",
    "**Task:**\n",
    "- To perform customer segmentations using KMeans.\n",
    "- Help the company effectively allocate marketing resources\n",
    "- Use customer age, education, years of employment, income, debt, whether they defaulted, and debt-to-income ratio to group into segments\n",
    "\n",
    "**Stakeholder:**\n",
    "Bank that is trying to allocate marketing material to the most relevent people at the lowest cost.\n",
    "\n"
   ]
  },
  {
   "cell_type": "markdown",
   "id": "895f07bf-76d9-47c4-be8b-59354c62a958",
   "metadata": {},
   "source": [
    "## Data Understanding:\n",
    "\n",
    "Using the following dataset: \n",
    "https://assets.codingdojo.com/boomyeah2015/codingdojo/curriculum/content/chapter/cust_seg.csv\n",
    "\n",
    "From: \n",
    "https://github.com/Nikhil-Adithyan/Customer-Segmentation-with-K-Means"
   ]
  },
  {
   "cell_type": "markdown",
   "id": "ff53f568-8800-4e6c-a64e-57db25930254",
   "metadata": {},
   "source": [
    "### Load Data and Imports:"
   ]
  },
  {
   "cell_type": "code",
   "execution_count": 1,
   "id": "f2465d16-9283-4522-9d99-6a382a29bfe3",
   "metadata": {},
   "outputs": [],
   "source": [
    "# Imports\n",
    "import numpy as np\n",
    "import pandas as pd\n",
    "import matplotlib.pyplot as plt\n",
    "\n",
    "from sklearn.decomposition import PCA\n",
    "from sklearn.preprocessing import StandardScaler\n",
    "from sklearn.cluster import KMeans\n",
    "from sklearn.metrics import silhouette_score\n",
    "\n",
    "import plotly.express as px"
   ]
  },
  {
   "cell_type": "code",
   "execution_count": 2,
   "id": "386fde7c-52dc-40bb-a5cb-d5cdf5881812",
   "metadata": {},
   "outputs": [
    {
     "data": {
      "text/html": [
       "<div>\n",
       "<style scoped>\n",
       "    .dataframe tbody tr th:only-of-type {\n",
       "        vertical-align: middle;\n",
       "    }\n",
       "\n",
       "    .dataframe tbody tr th {\n",
       "        vertical-align: top;\n",
       "    }\n",
       "\n",
       "    .dataframe thead th {\n",
       "        text-align: right;\n",
       "    }\n",
       "</style>\n",
       "<table border=\"1\" class=\"dataframe\">\n",
       "  <thead>\n",
       "    <tr style=\"text-align: right;\">\n",
       "      <th></th>\n",
       "      <th>Unnamed: 0</th>\n",
       "      <th>Customer Id</th>\n",
       "      <th>Age</th>\n",
       "      <th>Edu</th>\n",
       "      <th>Years Employed</th>\n",
       "      <th>Income</th>\n",
       "      <th>Card Debt</th>\n",
       "      <th>Other Debt</th>\n",
       "      <th>Defaulted</th>\n",
       "      <th>DebtIncomeRatio</th>\n",
       "    </tr>\n",
       "  </thead>\n",
       "  <tbody>\n",
       "    <tr>\n",
       "      <th>0</th>\n",
       "      <td>0</td>\n",
       "      <td>1</td>\n",
       "      <td>41</td>\n",
       "      <td>2</td>\n",
       "      <td>6</td>\n",
       "      <td>19</td>\n",
       "      <td>0.124</td>\n",
       "      <td>1.073</td>\n",
       "      <td>0.0</td>\n",
       "      <td>6.3</td>\n",
       "    </tr>\n",
       "    <tr>\n",
       "      <th>1</th>\n",
       "      <td>1</td>\n",
       "      <td>2</td>\n",
       "      <td>47</td>\n",
       "      <td>1</td>\n",
       "      <td>26</td>\n",
       "      <td>100</td>\n",
       "      <td>4.582</td>\n",
       "      <td>8.218</td>\n",
       "      <td>0.0</td>\n",
       "      <td>12.8</td>\n",
       "    </tr>\n",
       "    <tr>\n",
       "      <th>2</th>\n",
       "      <td>2</td>\n",
       "      <td>3</td>\n",
       "      <td>33</td>\n",
       "      <td>2</td>\n",
       "      <td>10</td>\n",
       "      <td>57</td>\n",
       "      <td>6.111</td>\n",
       "      <td>5.802</td>\n",
       "      <td>1.0</td>\n",
       "      <td>20.9</td>\n",
       "    </tr>\n",
       "    <tr>\n",
       "      <th>3</th>\n",
       "      <td>3</td>\n",
       "      <td>4</td>\n",
       "      <td>29</td>\n",
       "      <td>2</td>\n",
       "      <td>4</td>\n",
       "      <td>19</td>\n",
       "      <td>0.681</td>\n",
       "      <td>0.516</td>\n",
       "      <td>0.0</td>\n",
       "      <td>6.3</td>\n",
       "    </tr>\n",
       "    <tr>\n",
       "      <th>4</th>\n",
       "      <td>4</td>\n",
       "      <td>5</td>\n",
       "      <td>47</td>\n",
       "      <td>1</td>\n",
       "      <td>31</td>\n",
       "      <td>253</td>\n",
       "      <td>9.308</td>\n",
       "      <td>8.908</td>\n",
       "      <td>0.0</td>\n",
       "      <td>7.2</td>\n",
       "    </tr>\n",
       "  </tbody>\n",
       "</table>\n",
       "</div>"
      ],
      "text/plain": [
       "   Unnamed: 0  Customer Id  Age  Edu  Years Employed  Income  Card Debt  \\\n",
       "0           0            1   41    2               6      19      0.124   \n",
       "1           1            2   47    1              26     100      4.582   \n",
       "2           2            3   33    2              10      57      6.111   \n",
       "3           3            4   29    2               4      19      0.681   \n",
       "4           4            5   47    1              31     253      9.308   \n",
       "\n",
       "   Other Debt  Defaulted  DebtIncomeRatio  \n",
       "0       1.073        0.0              6.3  \n",
       "1       8.218        0.0             12.8  \n",
       "2       5.802        1.0             20.9  \n",
       "3       0.516        0.0              6.3  \n",
       "4       8.908        0.0              7.2  "
      ]
     },
     "execution_count": 2,
     "metadata": {},
     "output_type": "execute_result"
    }
   ],
   "source": [
    "# load dataset\n",
    "credit =  'data/cust_seg.csv'\n",
    "df = pd.read_csv(credit)\n",
    "df.head()"
   ]
  },
  {
   "cell_type": "markdown",
   "id": "be67d0ed-034e-4607-a0d0-6eb14e2720b4",
   "metadata": {},
   "source": [
    "### Clean Data"
   ]
  },
  {
   "cell_type": "code",
   "execution_count": 3,
   "id": "8d64796e-0c65-4a3e-8026-c3048292605a",
   "metadata": {},
   "outputs": [],
   "source": [
    "df= df.drop(columns=['Unnamed: 0', 'Customer Id'])\n"
   ]
  },
  {
   "cell_type": "code",
   "execution_count": 4,
   "id": "5233280f-d431-44b5-99e6-04e05f0292d9",
   "metadata": {},
   "outputs": [
    {
     "data": {
      "text/plain": [
       "Age                  0\n",
       "Edu                  0\n",
       "Years Employed       0\n",
       "Income               0\n",
       "Card Debt            0\n",
       "Other Debt           0\n",
       "Defaulted          150\n",
       "DebtIncomeRatio      0\n",
       "dtype: int64"
      ]
     },
     "execution_count": 4,
     "metadata": {},
     "output_type": "execute_result"
    }
   ],
   "source": [
    "df.isna().sum()"
   ]
  },
  {
   "cell_type": "code",
   "execution_count": 5,
   "id": "3c7f7dcf-dbeb-42a0-a682-08080595dec9",
   "metadata": {},
   "outputs": [],
   "source": [
    "df=df.dropna()"
   ]
  },
  {
   "cell_type": "code",
   "execution_count": 6,
   "id": "31ec917f-9b92-4617-a5db-d28fee2ce117",
   "metadata": {},
   "outputs": [
    {
     "data": {
      "text/plain": [
       "Age                0\n",
       "Edu                0\n",
       "Years Employed     0\n",
       "Income             0\n",
       "Card Debt          0\n",
       "Other Debt         0\n",
       "Defaulted          0\n",
       "DebtIncomeRatio    0\n",
       "dtype: int64"
      ]
     },
     "execution_count": 6,
     "metadata": {},
     "output_type": "execute_result"
    }
   ],
   "source": [
    "df.isna().sum()"
   ]
  },
  {
   "cell_type": "code",
   "execution_count": 7,
   "id": "99923b8d-c1bd-4894-8d24-10de898c1bbb",
   "metadata": {},
   "outputs": [],
   "source": [
    "# Combine 'Column1' and 'Column2' into a new column 'Combined'\n",
    "df['Combined Debt'] = df['Card Debt'].astype(float) + df['Other Debt']"
   ]
  },
  {
   "cell_type": "code",
   "execution_count": 8,
   "id": "08a48dc3-3de9-41a6-b83c-5398939e42d4",
   "metadata": {},
   "outputs": [],
   "source": [
    "df= df.drop(columns=['Card Debt', 'Other Debt'])"
   ]
  },
  {
   "cell_type": "code",
   "execution_count": null,
   "id": "843f04c8-fc46-4b65-8c7e-87fcc9281009",
   "metadata": {},
   "outputs": [],
   "source": []
  },
  {
   "cell_type": "code",
   "execution_count": 9,
   "id": "7dc6b5ff-8999-45f5-a7cc-d5b01cf26404",
   "metadata": {},
   "outputs": [
    {
     "data": {
      "text/html": [
       "<div>\n",
       "<style scoped>\n",
       "    .dataframe tbody tr th:only-of-type {\n",
       "        vertical-align: middle;\n",
       "    }\n",
       "\n",
       "    .dataframe tbody tr th {\n",
       "        vertical-align: top;\n",
       "    }\n",
       "\n",
       "    .dataframe thead th {\n",
       "        text-align: right;\n",
       "    }\n",
       "</style>\n",
       "<table border=\"1\" class=\"dataframe\">\n",
       "  <thead>\n",
       "    <tr style=\"text-align: right;\">\n",
       "      <th></th>\n",
       "      <th>Age</th>\n",
       "      <th>Edu</th>\n",
       "      <th>Years Employed</th>\n",
       "      <th>Income</th>\n",
       "      <th>Defaulted</th>\n",
       "      <th>DebtIncomeRatio</th>\n",
       "      <th>Combined Debt</th>\n",
       "    </tr>\n",
       "  </thead>\n",
       "  <tbody>\n",
       "    <tr>\n",
       "      <th>0</th>\n",
       "      <td>41</td>\n",
       "      <td>2</td>\n",
       "      <td>6</td>\n",
       "      <td>19</td>\n",
       "      <td>0.0</td>\n",
       "      <td>6.3</td>\n",
       "      <td>1.197</td>\n",
       "    </tr>\n",
       "    <tr>\n",
       "      <th>1</th>\n",
       "      <td>47</td>\n",
       "      <td>1</td>\n",
       "      <td>26</td>\n",
       "      <td>100</td>\n",
       "      <td>0.0</td>\n",
       "      <td>12.8</td>\n",
       "      <td>12.800</td>\n",
       "    </tr>\n",
       "  </tbody>\n",
       "</table>\n",
       "</div>"
      ],
      "text/plain": [
       "   Age  Edu  Years Employed  Income  Defaulted  DebtIncomeRatio  Combined Debt\n",
       "0   41    2               6      19        0.0              6.3          1.197\n",
       "1   47    1              26     100        0.0             12.8         12.800"
      ]
     },
     "execution_count": 9,
     "metadata": {},
     "output_type": "execute_result"
    }
   ],
   "source": [
    "df.head(2)"
   ]
  },
  {
   "cell_type": "code",
   "execution_count": 10,
   "id": "18214740-a02c-4f7b-bf91-679bd7fb1012",
   "metadata": {},
   "outputs": [],
   "source": [
    "# Scale the data\n",
    "# Instantiate Standard Scaler\n",
    "scaler = StandardScaler()\n",
    "# Fit & transform data.\n",
    "scaled_df = scaler.fit_transform(df)"
   ]
  },
  {
   "cell_type": "markdown",
   "id": "92ceebd4-7469-4588-8907-71cde9414433",
   "metadata": {},
   "source": [
    "### Use KMeans to create various customer segments"
   ]
  },
  {
   "cell_type": "code",
   "execution_count": 11,
   "id": "2696fd30-638e-430e-943b-10b132401492",
   "metadata": {},
   "outputs": [
    {
     "name": "stderr",
     "output_type": "stream",
     "text": [
      "C:\\Users\\csbro\\anaconda3\\envs\\dojo-env\\lib\\site-packages\\sklearn\\cluster\\_kmeans.py:1382: UserWarning: KMeans is known to have a memory leak on Windows with MKL, when there are less chunks than available threads. You can avoid it by setting the environment variable OMP_NUM_THREADS=3.\n",
      "  warnings.warn(\n",
      "C:\\Users\\csbro\\anaconda3\\envs\\dojo-env\\lib\\site-packages\\sklearn\\cluster\\_kmeans.py:1382: UserWarning: KMeans is known to have a memory leak on Windows with MKL, when there are less chunks than available threads. You can avoid it by setting the environment variable OMP_NUM_THREADS=3.\n",
      "  warnings.warn(\n",
      "C:\\Users\\csbro\\anaconda3\\envs\\dojo-env\\lib\\site-packages\\sklearn\\cluster\\_kmeans.py:1382: UserWarning: KMeans is known to have a memory leak on Windows with MKL, when there are less chunks than available threads. You can avoid it by setting the environment variable OMP_NUM_THREADS=3.\n",
      "  warnings.warn(\n",
      "C:\\Users\\csbro\\anaconda3\\envs\\dojo-env\\lib\\site-packages\\sklearn\\cluster\\_kmeans.py:1382: UserWarning: KMeans is known to have a memory leak on Windows with MKL, when there are less chunks than available threads. You can avoid it by setting the environment variable OMP_NUM_THREADS=3.\n",
      "  warnings.warn(\n",
      "C:\\Users\\csbro\\anaconda3\\envs\\dojo-env\\lib\\site-packages\\sklearn\\cluster\\_kmeans.py:1382: UserWarning: KMeans is known to have a memory leak on Windows with MKL, when there are less chunks than available threads. You can avoid it by setting the environment variable OMP_NUM_THREADS=3.\n",
      "  warnings.warn(\n",
      "C:\\Users\\csbro\\anaconda3\\envs\\dojo-env\\lib\\site-packages\\sklearn\\cluster\\_kmeans.py:1382: UserWarning: KMeans is known to have a memory leak on Windows with MKL, when there are less chunks than available threads. You can avoid it by setting the environment variable OMP_NUM_THREADS=3.\n",
      "  warnings.warn(\n",
      "C:\\Users\\csbro\\anaconda3\\envs\\dojo-env\\lib\\site-packages\\sklearn\\cluster\\_kmeans.py:1382: UserWarning: KMeans is known to have a memory leak on Windows with MKL, when there are less chunks than available threads. You can avoid it by setting the environment variable OMP_NUM_THREADS=3.\n",
      "  warnings.warn(\n",
      "C:\\Users\\csbro\\anaconda3\\envs\\dojo-env\\lib\\site-packages\\sklearn\\cluster\\_kmeans.py:1382: UserWarning: KMeans is known to have a memory leak on Windows with MKL, when there are less chunks than available threads. You can avoid it by setting the environment variable OMP_NUM_THREADS=3.\n",
      "  warnings.warn(\n",
      "C:\\Users\\csbro\\anaconda3\\envs\\dojo-env\\lib\\site-packages\\sklearn\\cluster\\_kmeans.py:1382: UserWarning: KMeans is known to have a memory leak on Windows with MKL, when there are less chunks than available threads. You can avoid it by setting the environment variable OMP_NUM_THREADS=3.\n",
      "  warnings.warn(\n"
     ]
    },
    {
     "data": {
      "image/png": "[encoded data removed]",
      "text/plain": [
       "<Figure size 640x480 with 1 Axes>"
      ]
     },
     "metadata": {},
     "output_type": "display_data"
    },
    {
     "data": {
      "image/png": "[encoded data removed]",
      "text/plain": [
       "<Figure size 640x480 with 1 Axes>"
      ]
     },
     "metadata": {},
     "output_type": "display_data"
    }
   ],
   "source": [
    "#instantiate KMeans\n",
    "ks = range(2, 11)\n",
    "\n",
    "#create empty list for inertias and sils\n",
    "inertias=[]\n",
    "sils = []\n",
    "\n",
    "#Loop through k values for range\n",
    "for k in ks:\n",
    "    kmeans= KMeans(n_clusters=k, n_init='auto', random_state=42)\n",
    "    kmeans.fit(scaled_df)\n",
    "    inertias.append(kmeans.inertia_)\n",
    "    sils.append(silhouette_score(scaled_df, kmeans.labels_))\n",
    "\n",
    "#Visualize the scores\n",
    "plt.plot(ks, inertias, marker='.')\n",
    "plt.xlabel('clusters')\n",
    "plt.ylabel('inertia');\n",
    "\n",
    "plt.show()\n",
    "\n",
    "plt.plot(ks, sils, marker='.')\n",
    "plt.xlabel('Number of Clusters')\n",
    "plt.ylabel('Silhouette Score');"
   ]
  },
  {
   "cell_type": "markdown",
   "id": "5ec2a800-bf81-4fed-a297-2c0102c160d2",
   "metadata": {},
   "source": [
    "Choose a K based on the results:  Will use K=3 based on the elbow plot"
   ]
  },
  {
   "cell_type": "code",
   "execution_count": 35,
   "id": "7732b35e-651b-4b6f-b11d-4660b159ff4d",
   "metadata": {},
   "outputs": [
    {
     "name": "stderr",
     "output_type": "stream",
     "text": [
      "C:\\Users\\csbro\\anaconda3\\envs\\dojo-env\\lib\\site-packages\\sklearn\\cluster\\_kmeans.py:1382: UserWarning: KMeans is known to have a memory leak on Windows with MKL, when there are less chunks than available threads. You can avoid it by setting the environment variable OMP_NUM_THREADS=3.\n",
      "  warnings.warn(\n"
     ]
    },
    {
     "data": {
      "text/html": [
       "<style>#sk-container-id-6 {color: black;background-color: white;}#sk-container-id-6 pre{padding: 0;}#sk-container-id-6 div.sk-toggleable {background-color: white;}#sk-container-id-6 label.sk-toggleable__label {cursor: pointer;display: block;width: 100%;margin-bottom: 0;padding: 0.3em;box-sizing: border-box;text-align: center;}#sk-container-id-6 label.sk-toggleable__label-arrow:before {content: \"▸\";float: left;margin-right: 0.25em;color: #696969;}#sk-container-id-6 label.sk-toggleable__label-arrow:hover:before {color: black;}#sk-container-id-6 div.sk-estimator:hover label.sk-toggleable__label-arrow:before {color: black;}#sk-container-id-6 div.sk-toggleable__content {max-height: 0;max-width: 0;overflow: hidden;text-align: left;background-color: #f0f8ff;}#sk-container-id-6 div.sk-toggleable__content pre {margin: 0.2em;color: black;border-radius: 0.25em;background-color: #f0f8ff;}#sk-container-id-6 input.sk-toggleable__control:checked~div.sk-toggleable__content {max-height: 200px;max-width: 100%;overflow: auto;}#sk-container-id-6 input.sk-toggleable__control:checked~label.sk-toggleable__label-arrow:before {content: \"▾\";}#sk-container-id-6 div.sk-estimator input.sk-toggleable__control:checked~label.sk-toggleable__label {background-color: #d4ebff;}#sk-container-id-6 div.sk-label input.sk-toggleable__control:checked~label.sk-toggleable__label {background-color: #d4ebff;}#sk-container-id-6 input.sk-hidden--visually {border: 0;clip: rect(1px 1px 1px 1px);clip: rect(1px, 1px, 1px, 1px);height: 1px;margin: -1px;overflow: hidden;padding: 0;position: absolute;width: 1px;}#sk-container-id-6 div.sk-estimator {font-family: monospace;background-color: #f0f8ff;border: 1px dotted black;border-radius: 0.25em;box-sizing: border-box;margin-bottom: 0.5em;}#sk-container-id-6 div.sk-estimator:hover {background-color: #d4ebff;}#sk-container-id-6 div.sk-parallel-item::after {content: \"\";width: 100%;border-bottom: 1px solid gray;flex-grow: 1;}#sk-container-id-6 div.sk-label:hover label.sk-toggleable__label {background-color: #d4ebff;}#sk-container-id-6 div.sk-serial::before {content: \"\";position: absolute;border-left: 1px solid gray;box-sizing: border-box;top: 0;bottom: 0;left: 50%;z-index: 0;}#sk-container-id-6 div.sk-serial {display: flex;flex-direction: column;align-items: center;background-color: white;padding-right: 0.2em;padding-left: 0.2em;position: relative;}#sk-container-id-6 div.sk-item {position: relative;z-index: 1;}#sk-container-id-6 div.sk-parallel {display: flex;align-items: stretch;justify-content: center;background-color: white;position: relative;}#sk-container-id-6 div.sk-item::before, #sk-container-id-6 div.sk-parallel-item::before {content: \"\";position: absolute;border-left: 1px solid gray;box-sizing: border-box;top: 0;bottom: 0;left: 50%;z-index: -1;}#sk-container-id-6 div.sk-parallel-item {display: flex;flex-direction: column;z-index: 1;position: relative;background-color: white;}#sk-container-id-6 div.sk-parallel-item:first-child::after {align-self: flex-end;width: 50%;}#sk-container-id-6 div.sk-parallel-item:last-child::after {align-self: flex-start;width: 50%;}#sk-container-id-6 div.sk-parallel-item:only-child::after {width: 0;}#sk-container-id-6 div.sk-dashed-wrapped {border: 1px dashed gray;margin: 0 0.4em 0.5em 0.4em;box-sizing: border-box;padding-bottom: 0.4em;background-color: white;}#sk-container-id-6 div.sk-label label {font-family: monospace;font-weight: bold;display: inline-block;line-height: 1.2em;}#sk-container-id-6 div.sk-label-container {text-align: center;}#sk-container-id-6 div.sk-container {/* jupyter's `normalize.less` sets `[hidden] { display: none; }` but bootstrap.min.css set `[hidden] { display: none !important; }` so we also need the `!important` here to be able to override the default hidden behavior on the sphinx rendered scikit-learn.org. See: https://github.com/scikit-learn/scikit-learn/issues/21755 */display: inline-block !important;position: relative;}#sk-container-id-6 div.sk-text-repr-fallback {display: none;}</style><div id=\"sk-container-id-6\" class=\"sk-top-container\"><div class=\"sk-text-repr-fallback\"><pre>KMeans(n_clusters=3, n_init=&#x27;auto&#x27;, random_state=42)</pre><b>In a Jupyter environment, please rerun this cell to show the HTML representation or trust the notebook. <br />On GitHub, the HTML representation is unable to render, please try loading this page with nbviewer.org.</b></div><div class=\"sk-container\" hidden><div class=\"sk-item\"><div class=\"sk-estimator sk-toggleable\"><input class=\"sk-toggleable__control sk-hidden--visually\" id=\"sk-estimator-id-6\" type=\"checkbox\" checked><label for=\"sk-estimator-id-6\" class=\"sk-toggleable__label sk-toggleable__label-arrow\">KMeans</label><div class=\"sk-toggleable__content\"><pre>KMeans(n_clusters=3, n_init=&#x27;auto&#x27;, random_state=42)</pre></div></div></div></div></div>"
      ],
      "text/plain": [
       "KMeans(n_clusters=3, n_init='auto', random_state=42)"
      ]
     },
     "execution_count": 35,
     "metadata": {},
     "output_type": "execute_result"
    }
   ],
   "source": [
    "kmeans_model = KMeans(n_clusters=3, n_init='auto', random_state=42)\n",
    "kmeans_model.fit(scaled_df)"
   ]
  },
  {
   "cell_type": "markdown",
   "id": "66066c3a-7114-4f9e-bb25-ec23a6659b71",
   "metadata": {},
   "source": [
    "### Analyze the clusters \n",
    "\n",
    "Create analytical visualizations that explore statistics for each feature for each cluster."
   ]
  },
  {
   "cell_type": "code",
   "execution_count": 36,
   "id": "c1fe3f4c-55d9-42a2-930f-6b344f8902d3",
   "metadata": {},
   "outputs": [
    {
     "data": {
      "text/html": [
       "<div>\n",
       "<style scoped>\n",
       "    .dataframe tbody tr th:only-of-type {\n",
       "        vertical-align: middle;\n",
       "    }\n",
       "\n",
       "    .dataframe tbody tr th {\n",
       "        vertical-align: top;\n",
       "    }\n",
       "\n",
       "    .dataframe thead th {\n",
       "        text-align: right;\n",
       "    }\n",
       "</style>\n",
       "<table border=\"1\" class=\"dataframe\">\n",
       "  <thead>\n",
       "    <tr style=\"text-align: right;\">\n",
       "      <th></th>\n",
       "      <th>cluster</th>\n",
       "      <th>Age</th>\n",
       "      <th>Edu</th>\n",
       "      <th>Years Employed</th>\n",
       "      <th>Income</th>\n",
       "      <th>Defaulted</th>\n",
       "      <th>DebtIncomeRatio</th>\n",
       "      <th>Combined Debt</th>\n",
       "    </tr>\n",
       "  </thead>\n",
       "  <tbody>\n",
       "    <tr>\n",
       "      <th>0</th>\n",
       "      <td>0</td>\n",
       "      <td>33.513514</td>\n",
       "      <td>1.592138</td>\n",
       "      <td>7.400491</td>\n",
       "      <td>35.088452</td>\n",
       "      <td>0.000000</td>\n",
       "      <td>7.746929</td>\n",
       "      <td>2.565494</td>\n",
       "    </tr>\n",
       "    <tr>\n",
       "      <th>1</th>\n",
       "      <td>1</td>\n",
       "      <td>43.390625</td>\n",
       "      <td>1.953125</td>\n",
       "      <td>17.375000</td>\n",
       "      <td>97.570312</td>\n",
       "      <td>0.171875</td>\n",
       "      <td>13.306250</td>\n",
       "      <td>11.361031</td>\n",
       "    </tr>\n",
       "    <tr>\n",
       "      <th>2</th>\n",
       "      <td>2</td>\n",
       "      <td>31.563636</td>\n",
       "      <td>1.866667</td>\n",
       "      <td>3.854545</td>\n",
       "      <td>31.218182</td>\n",
       "      <td>0.975758</td>\n",
       "      <td>14.098182</td>\n",
       "      <td>4.423424</td>\n",
       "    </tr>\n",
       "  </tbody>\n",
       "</table>\n",
       "</div>"
      ],
      "text/plain": [
       "   cluster        Age       Edu  Years Employed     Income  Defaulted  \\\n",
       "0        0  33.513514  1.592138        7.400491  35.088452   0.000000   \n",
       "1        1  43.390625  1.953125       17.375000  97.570312   0.171875   \n",
       "2        2  31.563636  1.866667        3.854545  31.218182   0.975758   \n",
       "\n",
       "   DebtIncomeRatio  Combined Debt  \n",
       "0         7.746929       2.565494  \n",
       "1        13.306250      11.361031  \n",
       "2        14.098182       4.423424  "
      ]
     },
     "execution_count": 36,
     "metadata": {},
     "output_type": "execute_result"
    }
   ],
   "source": [
    "# Add the clusters as a column in the dataframe\n",
    "df['cluster'] = kmeans_model.labels_\n",
    "df.head()\n",
    "#group the dataframe by cluster and aggregate by mean values\n",
    "cluster_groups = df.groupby('cluster', as_index=False).mean()\r\n",
    "cluster_groups"
   ]
  },
  {
   "cell_type": "code",
   "execution_count": 37,
   "id": "9ff6362c-6f0b-4c74-b960-9f371c60b2b1",
   "metadata": {},
   "outputs": [
    {
     "data": {
      "image/png": "[encoded data removed]",
      "text/plain": [
       "<Figure size 2000x1000 with 8 Axes>"
      ]
     },
     "metadata": {},
     "output_type": "display_data"
    }
   ],
   "source": [
    "# Visualize means \n",
    "fig, axes = plt.subplots(2,4, figsize = (20, 10))\n",
    "# fig is an array of dimensions 2,4.  axes.ravel() will flatten it to 12,1\n",
    "axes = axes.ravel()\n",
    "# Loop over columns and plot each in a separate figure, skip 'cluster' column\n",
    "for i, col in enumerate(cluster_groups.columns[1:]):\n",
    "  axes[i].bar(cluster_groups['cluster'], cluster_groups[col])\n",
    "  axes[i].set_title(f'Mean {col}')"
   ]
  },
  {
   "cell_type": "markdown",
   "id": "cd9ff685-2812-4a58-8e6b-ca2d6327de2f",
   "metadata": {},
   "source": [
    "### Descriptions of each cluster based on the visualizations "
   ]
  },
  {
   "cell_type": "markdown",
   "id": "cf5eec7d-d6f5-4d31-b361-b8a885069301",
   "metadata": {},
   "source": [
    "##### Cluster 0:\n",
    "\n",
    "- did not default on loans\n",
    "- Low debt\n",
    "- High debt-income ratio"
   ]
  },
  {
   "cell_type": "code",
   "execution_count": 15,
   "id": "05c26a17-a236-4a39-ba25-2f23446a17da",
   "metadata": {},
   "outputs": [],
   "source": [
    "##### Cluster 1:"
   ]
  },
  {
   "cell_type": "code",
   "execution_count": 16,
   "id": "6c0fe5c8-d357-4985-a900-9252fbfbb898",
   "metadata": {},
   "outputs": [],
   "source": [
    "##### Cluster 2:"
   ]
  },
  {
   "cell_type": "code",
   "execution_count": 17,
   "id": "e9976264-ac44-4c39-bd9f-6ebdf82ed7ea",
   "metadata": {},
   "outputs": [],
   "source": [
    "##### Cluster 3:"
   ]
  },
  {
   "cell_type": "code",
   "execution_count": 18,
   "id": "3ccfe7c7-9525-4a49-9209-b92bbd247077",
   "metadata": {},
   "outputs": [],
   "source": [
    "##### Cluster 4:"
   ]
  },
  {
   "cell_type": "code",
   "execution_count": 19,
   "id": "261b4c72-2992-4a5c-8663-428ac07a5882",
   "metadata": {},
   "outputs": [],
   "source": [
    "##### Cluster 5:"
   ]
  },
  {
   "cell_type": "code",
   "execution_count": 20,
   "id": "892da2e4-6380-4227-a127-d42a0f80c0f3",
   "metadata": {},
   "outputs": [],
   "source": [
    "##### Cluster 6:"
   ]
  },
  {
   "cell_type": "code",
   "execution_count": 21,
   "id": "cbcaa53d-8b2b-4848-bb61-717daa2e0fed",
   "metadata": {},
   "outputs": [],
   "source": [
    "##### Cluster 7:"
   ]
  },
  {
   "cell_type": "code",
   "execution_count": null,
   "id": "7638601c-2a4c-41e8-aa22-9d51218020d1",
   "metadata": {},
   "outputs": [],
   "source": []
  }
 ],
 "metadata": {
  "kernelspec": {
   "display_name": "Python (dojo-env)",
   "language": "python",
   "name": "dojo-env"
  },
  "language_info": {
   "codemirror_mode": {
    "name": "ipython",
    "version": 3
   },
   "file_extension": ".py",
   "mimetype": "text/x-python",
   "name": "python",
   "nbconvert_exporter": "python",
   "pygments_lexer": "ipython3",
   "version": "3.10.10"
  },
  "widgets": {
   "application/vnd.jupyter.widget-state+json": {
    "state": {},
    "version_major": 2,
    "version_minor": 0
   }
  }
 },
 "nbformat": 4,
 "nbformat_minor": 5
}
